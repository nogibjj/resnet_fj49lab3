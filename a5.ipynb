{
 "cells": [
  {
   "cell_type": "code",
   "execution_count": null,
   "metadata": {},
   "outputs": [],
   "source": [
    "import pandas as pd\n",
    "import subprocess\n",
    "\n",
    "# Command to download dataset using Kaggle API\n",
    "command = \"kaggle competitions download -c ids705-a5-q1-spring-2024\"\n",
    "\n",
    "# Run the command in the terminal\n",
    "subprocess.run(command.split())\n",
    "\n",
    "# Read the CSV file into a pandas DataFrame\n",
    "df = pd.read_csv(\"data/a5_q1.pkl\")  # Update the filename accordingly"
   ]
  }
 ],
 "metadata": {
  "language_info": {
   "name": "python"
  }
 },
 "nbformat": 4,
 "nbformat_minor": 2
}
